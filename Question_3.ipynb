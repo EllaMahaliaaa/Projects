{
  "nbformat": 4,
  "nbformat_minor": 0,
  "metadata": {
    "colab": {
      "provenance": []
    },
    "kernelspec": {
      "name": "python3",
      "display_name": "Python 3"
    },
    "language_info": {
      "name": "python"
    }
  },
  "cells": [
    {
      "cell_type": "code",
      "source": [
        "# Function to break the original date into three parts\n",
        "\n",
        "def break_original_date(date_str):\n",
        "    parts = date_str.split('/')\n",
        "    month = parts[0]\n",
        "    day = parts[1]\n",
        "    year = parts[2]\n",
        "    print(f\"{date_str} is the original date\")\n",
        "    print(f\"{month} is the month, {day} is the day, {year} is the year\")\n",
        "    return month, day, year\n"
      ],
      "metadata": {
        "id": "eJdBr0D1k84w"
      },
      "execution_count": 10,
      "outputs": []
    },
    {
      "cell_type": "code",
      "source": [
        "def print_date_3_ways(day, month, year):\n",
        "\n",
        "# European way\n",
        "    european_format = f\"{day}-{month}-{year}\"\n",
        "\n",
        "    month_names = {\n",
        "        '01': 'January',\n",
        "        '02': 'February',\n",
        "        '03': 'March',\n",
        "        '04': 'April',\n",
        "        '05': 'May',\n",
        "        '06': 'June',\n",
        "        '07': 'July',\n",
        "        '08': 'August',\n",
        "        '09': 'September',\n",
        "        '10': 'October',\n",
        "        '11': 'November',\n",
        "        '12': 'December'\n",
        "      }\n",
        "\n",
        "# American way\n",
        "    american_format = f\"{month_names[month]} {day}, 20{year}\"\n",
        "\n",
        "# Full way\n",
        "    full_format = f\"{month}-{day}-{year}\"\n",
        "\n",
        "    print(\"Printing in three different ways:\")\n",
        "    print(f\"(1) European way: {european_format}\")\n",
        "    print(f\"(2) American way: {american_format}\")\n",
        "    print(f\"(3) Full way: {full_format}\")"
      ],
      "metadata": {
        "id": "d5V3LmpklH3c"
      },
      "execution_count": 11,
      "outputs": []
    },
    {
      "cell_type": "code",
      "source": [
        "def main():\n",
        "    while True:\n",
        "        original_date = input(\"Enter a date (e.g., 6/11/08), or 'q' to quit: \")\n",
        "        if original_date.lower() == 'q':\n",
        "            break\n",
        "\n",
        "        month, day, year = break_original_date(original_date)\n",
        "        print_date_3_ways(day, month, year)\n",
        "\n",
        "if __name__ == \"__main__\":\n",
        "    main()\n"
      ],
      "metadata": {
        "colab": {
          "base_uri": "https://localhost:8080/"
        },
        "id": "tskN__zLlT-3",
        "outputId": "fe593f14-60e5-4095-b942-57f2406a1dc8"
      },
      "execution_count": null,
      "outputs": [
        {
          "output_type": "stream",
          "name": "stdout",
          "text": [
            "Enter a date (e.g., 6/11/08), or 'q' to quit: 12/14/03\n",
            "12/14/03 is the original date\n",
            "12 is the month, 14 is the day, 03 is the year\n",
            "Printing in three different ways:\n",
            "(1) European way: 14-12-03\n",
            "(2) American way: December 14, 2003\n",
            "(3) Full way: 12-14-03\n"
          ]
        }
      ]
    }
  ]
}