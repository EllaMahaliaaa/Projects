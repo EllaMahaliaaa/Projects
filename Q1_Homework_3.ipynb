{
  "nbformat": 4,
  "nbformat_minor": 0,
  "metadata": {
    "colab": {
      "provenance": []
    },
    "kernelspec": {
      "name": "python3",
      "display_name": "Python 3"
    },
    "language_info": {
      "name": "python"
    }
  },
  "cells": [
    {
      "cell_type": "code",
      "execution_count": 15,
      "metadata": {
        "id": "L50JhsFOQ6Lf"
      },
      "outputs": [],
      "source": [
        "import pandas as pd\n",
        "import requests\n",
        "import json"
      ]
    },
    {
      "cell_type": "code",
      "source": [
        "url='https://newsapi.org/v2/everything?domains=wsj.com&apiKey=eb182a644fda43b2aacdad526fad495a'"
      ],
      "metadata": {
        "id": "ebfhyhqZRyur"
      },
      "execution_count": 16,
      "outputs": []
    },
    {
      "cell_type": "code",
      "source": [
        "response = requests.get(url)"
      ],
      "metadata": {
        "id": "pl_I4v1ZR2U2"
      },
      "execution_count": 17,
      "outputs": []
    },
    {
      "cell_type": "code",
      "source": [
        "df1 = pd.DataFrame(response.json()['articles'])"
      ],
      "metadata": {
        "id": "IaqKCcB3SCkL"
      },
      "execution_count": 18,
      "outputs": []
    },
    {
      "cell_type": "code",
      "source": [
        "api_url='https://newsapi.org/v2/everything?domains=wsj.com'"
      ],
      "metadata": {
        "id": "CA6OlTeySZwH"
      },
      "execution_count": 19,
      "outputs": []
    },
    {
      "cell_type": "code",
      "source": [
        "results =[]\n",
        "column_to_use = 'title'"
      ],
      "metadata": {
        "id": "UgXcAnLFSGmp"
      },
      "execution_count": 20,
      "outputs": []
    },
    {
      "cell_type": "code",
      "source": [
        "for value in df1[column_to_use]:\n",
        "  params = {'Articles': value}\n",
        "  response = requests.get(api_url, params=params)"
      ],
      "metadata": {
        "id": "v0CdQ4vPTUsU"
      },
      "execution_count": 21,
      "outputs": []
    },
    {
      "cell_type": "code",
      "source": [
        "if response.status_code == 200:\n",
        "  data = response.json()\n",
        "  results.append(data)"
      ],
      "metadata": {
        "id": "js3Gs2c8TnP9"
      },
      "execution_count": 22,
      "outputs": []
    },
    {
      "cell_type": "code",
      "source": [
        "df2 = pd.DataFrame(results)"
      ],
      "metadata": {
        "id": "laHTQ-wDTyg4"
      },
      "execution_count": 23,
      "outputs": []
    },
    {
      "cell_type": "code",
      "source": [
        "df3 = pd.concat([df1, df2], axis=1)\n",
        "print(df3)"
      ],
      "metadata": {
        "colab": {
          "base_uri": "https://localhost:8080/"
        },
        "id": "aHJUggQyUP1S",
        "outputId": "1c72f510-1a3f-4870-9eed-3f15a91df1b0"
      },
      "execution_count": 27,
      "outputs": [
        {
          "output_type": "stream",
          "name": "stdout",
          "text": [
            "                                               source           author  \\\n",
            "0   {'id': 'the-wall-street-journal', 'name': 'The...        Jason Gay   \n",
            "1   {'id': 'the-wall-street-journal', 'name': 'The...    Cara Lombardo   \n",
            "2   {'id': 'the-wall-street-journal', 'name': 'The...     Joseph Hoppe   \n",
            "3   {'id': 'the-wall-street-journal', 'name': 'The...              wsj   \n",
            "4   {'id': 'the-wall-street-journal', 'name': 'The...              wsj   \n",
            "..                                                ...              ...   \n",
            "95  {'id': 'the-wall-street-journal', 'name': 'The...              wsj   \n",
            "96  {'id': 'the-wall-street-journal', 'name': 'The...  James T. Areddy   \n",
            "97  {'id': 'the-wall-street-journal', 'name': 'The...              wsj   \n",
            "98  {'id': 'the-wall-street-journal', 'name': 'The...   Samuel Sanders   \n",
            "99  {'id': 'the-wall-street-journal', 'name': 'The...              wsj   \n",
            "\n",
            "                                                title  \\\n",
            "0       Give Me a Break! The Case for an Intermission   \n",
            "1      Icahn Enterprises Stock Jumps on Dividend News   \n",
            "2   Meta Pledges to Allow Marketplace Customers to...   \n",
            "3   The Astrophysicist Who Has Better Way to Board...   \n",
            "4   Russian Suicide Drone Blunting Counteroffensiv...   \n",
            "..                                                ...   \n",
            "95            Sam Bankman-Fried Blames the Lawyers...   \n",
            "96  Li Keqiang, Chinese Ex-Premier Who Helped Shap...   \n",
            "97                           AMAZON PROFIT TRIPLES...   \n",
            "98  These 11 Videogames Make Working Out Actually Fun   \n",
            "99  Smuggling Migrants Toward USA Is Booming Busin...   \n",
            "\n",
            "                                          description  \\\n",
            "0   A movie distributor admonishes theaters for in...   \n",
            "1   Live coverage of stocks and financial news, in...   \n",
            "2   Meta Pledges to Allow Marketplace Customers to...   \n",
            "3   One of America’s largest airlines is changing ...   \n",
            "4   Russia is catching up to Ukraine on battlefiel...   \n",
            "..                                                ...   \n",
            "95  In an unusual rehearsal of self-defense testim...   \n",
            "96  Li Keqiang, Chinese Ex-Premier Who Helped Shap...   \n",
            "97  Online-shopping giant has looked to rebound af...   \n",
            "98  Why waste time running marathons and lifting w...   \n",
            "99  Services to help people cross borders in Latin...   \n",
            "\n",
            "                                                  url  \\\n",
            "0   https://www.wsj.com/lifestyle/give-me-a-break-...   \n",
            "1   https://www.wsj.com/livecoverage/stock-market-...   \n",
            "2   https://www.wsj.com/tech/meta-pledges-to-allow...   \n",
            "3   https://www.wsj.com/business/airlines/united-a...   \n",
            "4   https://www.wsj.com/world/this-russian-suicide...   \n",
            "..                                                ...   \n",
            "95  https://www.wsj.com/finance/currencies/sam-ban...   \n",
            "96  https://www.wsj.com/world/china/li-keqiang-chi...   \n",
            "97  https://www.wsj.com/tech/amazon-amzn-q3-earnin...   \n",
            "98  https://www.wsj.com/tech/personal-tech/videoga...   \n",
            "99  https://www.wsj.com/world/americas/immigration...   \n",
            "\n",
            "                                    urlToImage           publishedAt  \\\n",
            "0      https://images.wsj.net/im-879478/social  2023-11-03T15:33:00Z   \n",
            "1   https://images.wsj.net/im-880910?width=600  2023-11-03T13:46:00Z   \n",
            "2      https://images.wsj.net/im-874274/social  2023-11-03T13:32:39Z   \n",
            "3      https://images.wsj.net/im-880240/social  2023-11-03T13:00:03Z   \n",
            "4      https://images.wsj.net/im-878574/social  2023-11-03T13:00:03Z   \n",
            "..                                         ...                   ...   \n",
            "95     https://images.wsj.net/im-876413/social  2023-10-27T02:00:03Z   \n",
            "96     https://images.wsj.net/im-876575/social  2023-10-27T01:03:15Z   \n",
            "97     https://images.wsj.net/im-873233/social  2023-10-26T21:00:03Z   \n",
            "98     https://images.wsj.net/im-870478/social  2023-10-26T20:33:08Z   \n",
            "99     https://images.wsj.net/im-866535/social  2023-10-26T20:00:03Z   \n",
            "\n",
            "                                              content  \n",
            "0   Recently, distributors behind the new Martin S...  \n",
            "1   Icahn Enterprises shares jumped more than 10% ...  \n",
            "2   The U.K. competition regulator said Meta Platf...  \n",
            "3   The Astrophysicist Who Has a Better Way to Boa...  \n",
            "4   This Russian Suicide Drone Is Blunting Ukraine...  \n",
            "..                                                ...  \n",
            "95  Sam Bankman-Fried Says FTX Actions Were Guided...  \n",
            "96  Former Chinese Premier Li Keqiang died Friday ...  \n",
            "97  Amazon’s Profit Triples as Sales Show Resilien...  \n",
            "98  WE OFTEN ASSOCIATE videogames with lethargya g...  \n",
            "99  Smuggling Migrants Toward the U.S. Is a Boomin...  \n",
            "\n",
            "[100 rows x 8 columns]\n"
          ]
        }
      ]
    },
    {
      "cell_type": "code",
      "source": [
        "print(df3.describe())"
      ],
      "metadata": {
        "colab": {
          "base_uri": "https://localhost:8080/"
        },
        "id": "7VqHAMKZV9nQ",
        "outputId": "504fcb62-7be1-4216-978b-d4beb9d3ca12"
      },
      "execution_count": 28,
      "outputs": [
        {
          "output_type": "stream",
          "name": "stdout",
          "text": [
            "                                                   source author  \\\n",
            "count                                                 100     98   \n",
            "unique                                                  1     70   \n",
            "top     {'id': 'the-wall-street-journal', 'name': 'The...    wsj   \n",
            "freq                                                  100     22   \n",
            "\n",
            "                                                title description  \\\n",
            "count                                             100         100   \n",
            "unique                                            100          90   \n",
            "top     Give Me a Break! The Case for an Intermission               \n",
            "freq                                                1           9   \n",
            "\n",
            "                                                      url  \\\n",
            "count                                                 100   \n",
            "unique                                                100   \n",
            "top     https://www.wsj.com/lifestyle/give-me-a-break-...   \n",
            "freq                                                    1   \n",
            "\n",
            "                                     urlToImage           publishedAt  \\\n",
            "count                                        98                   100   \n",
            "unique                                       98                    94   \n",
            "top     https://images.wsj.net/im-879478/social  2023-11-03T13:00:03Z   \n",
            "freq                                          1                     3   \n",
            "\n",
            "                                                  content  \n",
            "count                                                 100  \n",
            "unique                                                100  \n",
            "top     Recently, distributors behind the new Martin S...  \n",
            "freq                                                    1  \n"
          ]
        }
      ]
    },
    {
      "cell_type": "code",
      "source": [
        "df3.to_csv('combined_dataframe.csv', index=False)"
      ],
      "metadata": {
        "id": "3GM31E2nWGIL"
      },
      "execution_count": 29,
      "outputs": []
    }
  ]
}