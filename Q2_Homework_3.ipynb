{
  "nbformat": 4,
  "nbformat_minor": 0,
  "metadata": {
    "colab": {
      "provenance": []
    },
    "kernelspec": {
      "name": "python3",
      "display_name": "Python 3"
    },
    "language_info": {
      "name": "python"
    }
  },
  "cells": [
    {
      "cell_type": "code",
      "execution_count": 5,
      "metadata": {
        "id": "fyyYsr6J9h1D"
      },
      "outputs": [],
      "source": [
        "import pandas as pd\n",
        "import numpy as np"
      ]
    },
    {
      "cell_type": "code",
      "source": [
        "df = pd.read_csv('stock_prices.csv')"
      ],
      "metadata": {
        "id": "mKQ9xYWj-Ks9"
      },
      "execution_count": 6,
      "outputs": []
    },
    {
      "cell_type": "code",
      "source": [
        "#The highest closing price\n",
        "highest_closing_price = np.max(df['close'])\n",
        "print(f\"1. Highest closing price: ${highest_closing_price: .2f}\")\n",
        "\n",
        "#What date was the highest closing price\n",
        "date_highest_closing = df.loc[df['close'].idxmax()]['date']\n",
        "print(f\"2. Date of highest closing price: {date_highest_closing}\")\n",
        "\n",
        "#What was the average daily trading volume of the stock\n",
        "average_volume =np.mean(df['volume'])\n",
        "print(f\"3. Average daily trading volume: {average_volume: .2f} shares\")\n",
        "\n",
        "#What was the standard deviation of the daily trading volume of the stock\n",
        "volume_stddev =np.std(df['volume'])\n",
        "print(f\"4. Standard deviation of daily trading volume: {volume_stddev: .2f} shares\")\n",
        "\n",
        "#How many days did the stock close higher than its opening price\n",
        "days_higher_closing = len(df[df['close'] > df['open']])\n",
        "print(f\"5. Number of days stock closed higher than its opening price: {days_higher_closing} days\")\n",
        "\n",
        "#What was the % of the total trading days that the stock closed higher than the opening price\n",
        "percentage_higher_closing = (days_higher_closing / len(df)) * 100\n",
        "print(f\"6. Percentage of days closed higher than opening price: {percentage_higher_closing: .2f}%\")"
      ],
      "metadata": {
        "colab": {
          "base_uri": "https://localhost:8080/"
        },
        "id": "NcTeQPBQ-YFp",
        "outputId": "ddb43135-39f3-4b59-c6c9-4d4b3f5b6666"
      },
      "execution_count": 12,
      "outputs": [
        {
          "output_type": "stream",
          "name": "stdout",
          "text": [
            "1. Highest closing price: $ 116.09\n",
            "2. Date of highest closing price: 2020-03-01\n",
            "3. Average daily trading volume:  558026.13 shares\n",
            "4. Standard deviation of daily trading volume:  269710.99 shares\n",
            "5. Number of days stock closed higher than its opening price: 180 days\n",
            "6. Percentage of days closed higher than opening price:  49.18%\n"
          ]
        }
      ]
    }
  ]
}