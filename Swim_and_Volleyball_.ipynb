{
  "nbformat": 4,
  "nbformat_minor": 0,
  "metadata": {
    "colab": {
      "provenance": []
    },
    "kernelspec": {
      "name": "python3",
      "display_name": "Python 3"
    },
    "language_info": {
      "name": "python"
    }
  },
  "cells": [
    {
      "cell_type": "code",
      "execution_count": 1,
      "metadata": {
        "id": "GJkl0Nd4FqH9"
      },
      "outputs": [],
      "source": [
        "import requests\n",
        "from bs4 import BeautifulSoup\n",
        "import pandas as pd\n"
      ]
    },
    {
      "cell_type": "code",
      "source": [
        "mens_swim_url='https://athletics.baruch.cuny.edu/sports/mens-swimming-and-diving/roster?view=2'\n",
        "mens_volleyball_url='https://athletics.baruch.cuny.edu/sports/mens-volleyball/roster'\n",
        "womens_swim_url='https://athletics.baruch.cuny.edu/sports/womens-swimming-and-diving/roster'\n",
        "womens_volleyball_url='https://athletics.baruch.cuny.edu/sports/womens-volleyball/roster'"
      ],
      "metadata": {
        "id": "eytM4UQ08Xy5"
      },
      "execution_count": 2,
      "outputs": []
    },
    {
      "cell_type": "code",
      "source": [
        "def web_scraper(url):\n",
        "  #Send a get rewuest to the above urls\n",
        "  page=requests.get(url)\n",
        "\n",
        "  #If the request code returns back 200 that means that the urls are good\n",
        "  if page.status_code ==200:\n",
        "    #Parse the HTML content using Beautiful Soup\n",
        "    soup=BeautifulSoup(page.content,'html.parser')\n",
        "\n",
        "    #Find all td tags with the class height so we can use it to find the average\n",
        "    raw_heights=soup.find_all('td',class_='height')\n",
        "\n",
        "    #We need to create a new varibale to store the processed heights\n",
        "    processed_heights=[]\n",
        "\n",
        "  #In this loop we will extarct the text from the raw height element\n",
        "  for raw_height in raw_heights:\n",
        "      raw_height_str=raw_height.get_text()\n",
        "\n",
        "      #Using the split method into feet and inches and convert them into floats,\n",
        "      #and then calculating the total height in inches and using append on the total height to the processed_heights list\n",
        "      feet,inches=map(float,raw_height_str.split(\"-\"))\n",
        "      total_inches=feet*12+inches\n",
        "      processed_heights.append(total_inches)\n",
        "\n",
        "  #Calcualting the average of the processed heights\n",
        "  avg_raw_heights=sum(processed_heights)/len(processed_heights)\n",
        "\n",
        "  #Keeping the loop going by using return to find the average height of the other teams\n",
        "  return avg_raw_heights"
      ],
      "metadata": {
        "id": "5ciwv5TuOxFQ"
      },
      "execution_count": 3,
      "outputs": []
    },
    {
      "cell_type": "code",
      "source": [
        "mens_swim_avg_height=web_scraper(mens_swim_url)\n",
        "print(f'The average height of the mens swim team is {mens_swim_avg_height:.2f} inches')\n",
        "\n",
        "mens_volleyball_avg_height=web_scraper(mens_volleyball_url)\n",
        "print(f'The average height of the mens volleyball team is {mens_volleyball_avg_height:.2f}inches')\n",
        "\n",
        "womens_swim_avg_height=web_scraper(womens_swim_url)\n",
        "print(f'The average height of the womens swim team is {womens_swim_avg_height:.2f}inches')\n",
        "\n",
        "womens_volleyball_avg_height=web_scraper(womens_volleyball_url)\n",
        "print(f'The average height of the womens volleyball team is {womens_volleyball_avg_height:.2f}inches')"
      ],
      "metadata": {
        "colab": {
          "base_uri": "https://localhost:8080/"
        },
        "id": "nrZgd7I7RzMt",
        "outputId": "41b5b024-f601-46b2-f8e8-0ecd2dadaa5b"
      },
      "execution_count": 4,
      "outputs": [
        {
          "output_type": "stream",
          "name": "stdout",
          "text": [
            "The average height of the mens swim team is 70.33 inches\n",
            "The average height of the mens volleyball team is 72.47inches\n",
            "The average height of the womens swim team is 63.85inches\n",
            "The average height of the womens volleyball team is 67.25inches\n"
          ]
        }
      ]
    },
    {
      "cell_type": "code",
      "source": [
        "#Calculate the average of the mens swim and volleyball using the web scraper function\n",
        "mens_swim_avg_height = web_scraper(mens_swim_url)\n",
        "mens_volleyball_avg_height = web_scraper(mens_volleyball_url)\n",
        "\n",
        "#Compare the average inches of the two teams\n",
        "if mens_swim_avg_height > mens_volleyball_avg_height:\n",
        "  greater_team = \"Men's Swim\"\n",
        "  greater_height = mens_swim_avg_height\n",
        "\n",
        "elif mens_swim_avg_height < mens_volleyball_avg_height:\n",
        "  greater_team = \"Men's Volleyball\"\n",
        "  greater_height = mens_volleyball_avg_height\n",
        "\n",
        "else:\n",
        "  greater_team = \"Both Men's Swim and Men's Volleyball\"\n",
        "  greater_height = mens_swim_avg_height\n",
        "\n",
        "#Using the print function to display the result of the comparison\n",
        "print(f\"The Men's team with the greater average height between Swim and Volleyball is {greater_team} with an average height of {greater_height:.2f} inches.\")\n"
      ],
      "metadata": {
        "colab": {
          "base_uri": "https://localhost:8080/"
        },
        "id": "LvYt_554S9qt",
        "outputId": "4d899f4a-55ad-4ede-97c0-638002c6172a"
      },
      "execution_count": 5,
      "outputs": [
        {
          "output_type": "stream",
          "name": "stdout",
          "text": [
            "The Men's team with the greater average height between Swim and Volleyball is Men's Volleyball with an average height of 72.47 inches.\n"
          ]
        }
      ]
    },
    {
      "cell_type": "code",
      "source": [
        "#Calculate the average of the womens swim and volleyball team using the web scraping function\n",
        "womens_swim_avg_height = web_scraper(womens_swim_url)\n",
        "womens_volleyball_avg_height = web_scraper(womens_volleyball_url)\n",
        "\n",
        "#Comapre the average inches of the two teams\n",
        "if womens_swim_avg_height > womens_volleyball_avg_height:\n",
        "  greater_team = \"Women's Swim\"\n",
        "  greater_height = womens_swim_avg_height\n",
        "\n",
        "elif womens_swim_avg_height < womens_volleyball_avg_height:\n",
        "  greater_team = \"Women's Volleyball\"\n",
        "  greater_height = womens_volleyball_avg_height\n",
        "\n",
        "else:\n",
        "  greater_team = \"Both Women's Swim and Women's Volleyball\"\n",
        "  greater_height = womens_swim_avg_height\n",
        "\n",
        "#Using the print function to display the reuslt of the comparison between the swim and volleyball team\n",
        "print(f\"The Women's team with the greater average height between Swim and Volleyball is {greater_team} with an average height of {greater_height:.2f} inches.\")\n"
      ],
      "metadata": {
        "colab": {
          "base_uri": "https://localhost:8080/"
        },
        "id": "CVObKy5PjtwW",
        "outputId": "c82793be-9385-4d6d-a198-c748ecf312f6"
      },
      "execution_count": 6,
      "outputs": [
        {
          "output_type": "stream",
          "name": "stdout",
          "text": [
            "The Women's team with the greater average height between Swim and Volleyball is Women's Volleyball with an average height of 67.25 inches.\n"
          ]
        }
      ]
    }
  ]
}